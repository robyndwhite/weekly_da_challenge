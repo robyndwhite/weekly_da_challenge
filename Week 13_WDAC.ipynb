{
 "cells": [
  {
   "cell_type": "markdown",
   "id": "fffa08e0-526b-4d0c-8e25-39b4f8fee5a0",
   "metadata": {
    "tags": []
   },
   "source": [
    "# Data in Motion Weekly Data Analysis Challenge\n",
    "## Week 13: Converting to Time Series\n",
    "\n",
    "Challenge Questions:\n",
    "\n",
    "1.    Convert the following series of date-strings to a time series.\n",
    "\n",
    "ser = pd.Series(['01 Jan 2010', '02-02-2011', '20120303', '2013/04/04', '2014-05-05', '2015-06-06T12:20'])\n",
    "\n",
    "Desired Results\n",
    "\n",
    "0 2010-01-01 00:00:00 \n",
    "\n",
    "1 2011-02-02 00:00:00 \n",
    "\n",
    "2 2012-03-03 00:00:00 \n",
    "\n",
    "3 2013-04-04 00:00:00 \n",
    "\n",
    "4 2014-05-05 00:00:00 \n",
    "\n",
    "5 2015-06-06 12:20:00 \n",
    "\n",
    "dtype: datetime64[ns] "
   ]
  },
  {
   "cell_type": "code",
   "execution_count": 1,
   "id": "dd25ff86-01fb-46eb-b5e3-ea313b81c90d",
   "metadata": {
    "tags": []
   },
   "outputs": [],
   "source": [
    "# import libraries\n",
    "\n",
    "import pandas as pd"
   ]
  },
  {
   "cell_type": "code",
   "execution_count": 2,
   "id": "b3f3dcf8-c72b-4f7d-a189-d4811466c879",
   "metadata": {},
   "outputs": [],
   "source": [
    "ser = pd.Series(['01 Jan 2010', '02-02-2011', '20120303', '2013/04/04', '2014-05-05', '2015-06-06T12:20'])"
   ]
  },
  {
   "cell_type": "code",
   "execution_count": 3,
   "id": "ad41ed82-820f-4037-b034-e8a6d875aa3c",
   "metadata": {},
   "outputs": [],
   "source": [
    "# convert to datetime\n",
    "ser = pd.to_datetime(ser, errors='coerce')"
   ]
  },
  {
   "cell_type": "code",
   "execution_count": 4,
   "id": "b2615a3c-8b8c-45ea-83b6-18c2361a02fa",
   "metadata": {},
   "outputs": [
    {
     "data": {
      "text/plain": [
       "0   2010-01-01 00:00:00\n",
       "1   2011-02-02 00:00:00\n",
       "2   2012-03-03 00:00:00\n",
       "3   2013-04-04 00:00:00\n",
       "4   2014-05-05 00:00:00\n",
       "5   2015-06-06 12:20:00\n",
       "dtype: datetime64[ns]"
      ]
     },
     "execution_count": 4,
     "metadata": {},
     "output_type": "execute_result"
    }
   ],
   "source": [
    "ser"
   ]
  }
 ],
 "metadata": {
  "kernelspec": {
   "display_name": "Python 3 (ipykernel)",
   "language": "python",
   "name": "python3"
  },
  "language_info": {
   "codemirror_mode": {
    "name": "ipython",
    "version": 3
   },
   "file_extension": ".py",
   "mimetype": "text/x-python",
   "name": "python",
   "nbconvert_exporter": "python",
   "pygments_lexer": "ipython3",
   "version": "3.9.13"
  }
 },
 "nbformat": 4,
 "nbformat_minor": 5
}
