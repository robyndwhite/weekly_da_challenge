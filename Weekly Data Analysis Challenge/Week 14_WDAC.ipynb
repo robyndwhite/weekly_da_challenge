{
 "cells": [
  {
   "cell_type": "markdown",
   "id": "e089ddd7-b2fc-4362-b08c-5e8becbc349d",
   "metadata": {
    "tags": []
   },
   "source": [
    "# Data in Motion Weekly Data Analysis Challenge\n",
    "## Week 14: Extracting Date Parts\n",
    "\n",
    "Challenge Questions:\n",
    "\n",
    "1.    Get the day of month, week number, day of year and day of week from ser.\n",
    "\n",
    "ser = pd.Series(['01 Jan 2010', '02-02-2011', '20120303', '2013/04/04', '2014-05-05', '2015-06-06T12:20'])\n",
    "\n",
    "**Desired Results:**\n",
    "\n",
    "Date: [1, 2, 3, 4, 5, 6] \n",
    "\n",
    "Week number: [53, 5, 9, 14, 19, 23] \n",
    "\n",
    "Day num of year: [1, 33, 63, 94, 125, 157] \n",
    "\n",
    "Day of week: ['Friday', 'Wednesday', 'Saturday', 'Thursday', 'Monday', 'Saturday']"
   ]
  },
  {
   "cell_type": "code",
   "execution_count": 1,
   "id": "7480e0c9-c027-4111-b63a-f5052133d546",
   "metadata": {
    "tags": []
   },
   "outputs": [],
   "source": [
    "# import libraries\n",
    "\n",
    "import pandas as pd"
   ]
  },
  {
   "cell_type": "code",
   "execution_count": 2,
   "id": "5c7f38b1-d3ff-4917-a587-41f0e2774fc7",
   "metadata": {},
   "outputs": [],
   "source": [
    "ser = pd.Series(['01 Jan 2010', '02-02-2011', '20120303', '2013/04/04', '2014-05-05', '2015-06-06T12:20'])"
   ]
  },
  {
   "cell_type": "code",
   "execution_count": 3,
   "id": "ad41ed82-820f-4037-b034-e8a6d875aa3c",
   "metadata": {},
   "outputs": [],
   "source": [
    "# convert to datetime\n",
    "ser = pd.to_datetime(ser, errors='coerce')"
   ]
  },
  {
   "cell_type": "code",
   "execution_count": 4,
   "id": "61619c60-8487-4844-81c8-9027fa5246de",
   "metadata": {},
   "outputs": [
    {
     "data": {
      "text/plain": [
       "0    1\n",
       "1    2\n",
       "2    3\n",
       "3    4\n",
       "4    5\n",
       "5    6\n",
       "dtype: int64"
      ]
     },
     "execution_count": 4,
     "metadata": {},
     "output_type": "execute_result"
    }
   ],
   "source": [
    "# get day of the month\n",
    "Date = ser.dt.day\n",
    "Date"
   ]
  },
  {
   "cell_type": "code",
   "execution_count": 5,
   "id": "a48726df-05d2-4016-8f00-11ed4dbe40eb",
   "metadata": {},
   "outputs": [
    {
     "data": {
      "text/plain": [
       "0    53\n",
       "1     5\n",
       "2     9\n",
       "3    14\n",
       "4    19\n",
       "5    23\n",
       "Name: week, dtype: UInt32"
      ]
     },
     "execution_count": 5,
     "metadata": {},
     "output_type": "execute_result"
    }
   ],
   "source": [
    "# get week number\n",
    "Week_number = ser.dt.isocalendar().week\n",
    "Week_number"
   ]
  },
  {
   "cell_type": "code",
   "execution_count": 6,
   "id": "bd9246b8-0415-487a-842d-5dd6b7066021",
   "metadata": {},
   "outputs": [
    {
     "data": {
      "text/plain": [
       "0      1\n",
       "1     33\n",
       "2     63\n",
       "3     94\n",
       "4    125\n",
       "5    157\n",
       "dtype: int64"
      ]
     },
     "execution_count": 6,
     "metadata": {},
     "output_type": "execute_result"
    }
   ],
   "source": [
    "# get day of the year\n",
    "Day_num_of_year = ser.dt.dayofyear\n",
    "Day_num_of_year"
   ]
  },
  {
   "cell_type": "code",
   "execution_count": 7,
   "id": "ecf06ee9-bc01-48ac-9f19-fba4a00934e2",
   "metadata": {},
   "outputs": [
    {
     "data": {
      "text/plain": [
       "0       Friday\n",
       "1    Wednesday\n",
       "2     Saturday\n",
       "3     Thursday\n",
       "4       Monday\n",
       "5     Saturday\n",
       "dtype: object"
      ]
     },
     "execution_count": 7,
     "metadata": {},
     "output_type": "execute_result"
    }
   ],
   "source": [
    "# get weekday name\n",
    "Day_of_week = ser.dt.day_name()\n",
    "Day_of_week"
   ]
  }
 ],
 "metadata": {
  "kernelspec": {
   "display_name": "Python 3 (ipykernel)",
   "language": "python",
   "name": "python3"
  },
  "language_info": {
   "codemirror_mode": {
    "name": "ipython",
    "version": 3
   },
   "file_extension": ".py",
   "mimetype": "text/x-python",
   "name": "python",
   "nbconvert_exporter": "python",
   "pygments_lexer": "ipython3",
   "version": "3.9.13"
  }
 },
 "nbformat": 4,
 "nbformat_minor": 5
}
