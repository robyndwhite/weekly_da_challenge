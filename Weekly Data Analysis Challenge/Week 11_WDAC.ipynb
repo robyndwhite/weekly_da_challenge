{
 "cells": [
  {
   "cell_type": "markdown",
   "id": "d80b355b-5d29-43ab-b0c8-e5696f4b6be3",
   "metadata": {
    "tags": []
   },
   "source": [
    "# Data in Motion Weekly Data Analysis Challenge\n",
    "## Week 11: JSON Files\n",
    "\n",
    "Link to dataset:  https://buff.ly/3wV0BZT \n",
    "\n",
    "Challenge Questions:\n",
    "1.    Read in the JSON file.\n",
    "2.    Flatten the nested list from JSON object.\n",
    "3.    Create a dataframe that includes the flatten list and all original columns"
   ]
  },
  {
   "cell_type": "code",
   "execution_count": 1,
   "id": "5d26308e-2dad-40c3-a846-86cb7a4d16f7",
   "metadata": {},
   "outputs": [],
   "source": [
    "# import libraries\n",
    "import urllib.request\n",
    "import json\n",
    "from flatten_json import flatten\n",
    "import pandas as pd"
   ]
  },
  {
   "cell_type": "markdown",
   "id": "31094c29-3f29-4416-ae12-4e3aa87cba9e",
   "metadata": {},
   "source": [
    "### 1. Read in the JSON file."
   ]
  },
  {
   "cell_type": "code",
   "execution_count": 2,
   "id": "9d529ea4-141b-43b5-a9bf-7999a4ad51a6",
   "metadata": {},
   "outputs": [],
   "source": [
    "# read in JSON file\n",
    "with urllib.request.urlopen('https://buff.ly/3wV0BZT') as url:\n",
    "    data = json.load(url)"
   ]
  },
  {
   "cell_type": "markdown",
   "id": "b1d931ff-ce47-4825-83ee-88d8dc8e6946",
   "metadata": {},
   "source": [
    "### 2. Flatten the nested list from JSON object."
   ]
  },
  {
   "cell_type": "code",
   "execution_count": 3,
   "id": "8086b77f-58f1-4959-a88e-fd81d4fc8b1e",
   "metadata": {},
   "outputs": [],
   "source": [
    "flat_json = flatten(data)"
   ]
  },
  {
   "cell_type": "code",
   "execution_count": 4,
   "id": "115a6f1c-ba6b-4211-9ab6-f9d10a89c9fe",
   "metadata": {},
   "outputs": [
    {
     "data": {
      "text/plain": [
       "{'school_name': 'ABC primary school',\n",
       " 'class': 'Year 1',\n",
       " 'students_0_id': 'A001',\n",
       " 'students_0_name': 'Tom',\n",
       " 'students_0_math': 60,\n",
       " 'students_0_physics': 66,\n",
       " 'students_0_chemistry': 61,\n",
       " 'students_1_id': 'A002',\n",
       " 'students_1_name': 'James',\n",
       " 'students_1_math': 89,\n",
       " 'students_1_physics': 76,\n",
       " 'students_1_chemistry': 51,\n",
       " 'students_2_id': 'A003',\n",
       " 'students_2_name': 'Jenny',\n",
       " 'students_2_math': 79,\n",
       " 'students_2_physics': 90,\n",
       " 'students_2_chemistry': 78}"
      ]
     },
     "execution_count": 4,
     "metadata": {},
     "output_type": "execute_result"
    }
   ],
   "source": [
    "flat_json"
   ]
  },
  {
   "cell_type": "markdown",
   "id": "7dcff2ca-b0ff-4561-a0da-d836ee17212c",
   "metadata": {},
   "source": [
    "### 3. Create a dataframe that includes the flatten list and all original columns"
   ]
  },
  {
   "cell_type": "code",
   "execution_count": 5,
   "id": "e8ee9317-a577-4735-83ce-dd47c0451cb1",
   "metadata": {},
   "outputs": [],
   "source": [
    "df = pd.DataFrame(flat_json, index=[0])"
   ]
  },
  {
   "cell_type": "code",
   "execution_count": 6,
   "id": "7e5cd39d-d3be-49a6-be16-1475653bad42",
   "metadata": {},
   "outputs": [
    {
     "data": {
      "text/html": [
       "<div>\n",
       "<style scoped>\n",
       "    .dataframe tbody tr th:only-of-type {\n",
       "        vertical-align: middle;\n",
       "    }\n",
       "\n",
       "    .dataframe tbody tr th {\n",
       "        vertical-align: top;\n",
       "    }\n",
       "\n",
       "    .dataframe thead th {\n",
       "        text-align: right;\n",
       "    }\n",
       "</style>\n",
       "<table border=\"1\" class=\"dataframe\">\n",
       "  <thead>\n",
       "    <tr style=\"text-align: right;\">\n",
       "      <th></th>\n",
       "      <th>school_name</th>\n",
       "      <th>class</th>\n",
       "      <th>students_0_id</th>\n",
       "      <th>students_0_name</th>\n",
       "      <th>students_0_math</th>\n",
       "      <th>students_0_physics</th>\n",
       "      <th>students_0_chemistry</th>\n",
       "      <th>students_1_id</th>\n",
       "      <th>students_1_name</th>\n",
       "      <th>students_1_math</th>\n",
       "      <th>students_1_physics</th>\n",
       "      <th>students_1_chemistry</th>\n",
       "      <th>students_2_id</th>\n",
       "      <th>students_2_name</th>\n",
       "      <th>students_2_math</th>\n",
       "      <th>students_2_physics</th>\n",
       "      <th>students_2_chemistry</th>\n",
       "    </tr>\n",
       "  </thead>\n",
       "  <tbody>\n",
       "    <tr>\n",
       "      <th>0</th>\n",
       "      <td>ABC primary school</td>\n",
       "      <td>Year 1</td>\n",
       "      <td>A001</td>\n",
       "      <td>Tom</td>\n",
       "      <td>60</td>\n",
       "      <td>66</td>\n",
       "      <td>61</td>\n",
       "      <td>A002</td>\n",
       "      <td>James</td>\n",
       "      <td>89</td>\n",
       "      <td>76</td>\n",
       "      <td>51</td>\n",
       "      <td>A003</td>\n",
       "      <td>Jenny</td>\n",
       "      <td>79</td>\n",
       "      <td>90</td>\n",
       "      <td>78</td>\n",
       "    </tr>\n",
       "  </tbody>\n",
       "</table>\n",
       "</div>"
      ],
      "text/plain": [
       "          school_name   class students_0_id students_0_name  students_0_math  \\\n",
       "0  ABC primary school  Year 1          A001             Tom               60   \n",
       "\n",
       "   students_0_physics  students_0_chemistry students_1_id students_1_name  \\\n",
       "0                  66                    61          A002           James   \n",
       "\n",
       "   students_1_math  students_1_physics  students_1_chemistry students_2_id  \\\n",
       "0               89                  76                    51          A003   \n",
       "\n",
       "  students_2_name  students_2_math  students_2_physics  students_2_chemistry  \n",
       "0           Jenny               79                  90                    78  "
      ]
     },
     "execution_count": 6,
     "metadata": {},
     "output_type": "execute_result"
    }
   ],
   "source": [
    "df"
   ]
  }
 ],
 "metadata": {
  "kernelspec": {
   "display_name": "Python 3 (ipykernel)",
   "language": "python",
   "name": "python3"
  },
  "language_info": {
   "codemirror_mode": {
    "name": "ipython",
    "version": 3
   },
   "file_extension": ".py",
   "mimetype": "text/x-python",
   "name": "python",
   "nbconvert_exporter": "python",
   "pygments_lexer": "ipython3",
   "version": "3.9.13"
  }
 },
 "nbformat": 4,
 "nbformat_minor": 5
}
