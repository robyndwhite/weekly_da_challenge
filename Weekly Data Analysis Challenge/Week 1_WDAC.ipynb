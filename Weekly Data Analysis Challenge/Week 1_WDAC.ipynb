{
 "cells": [
  {
   "cell_type": "markdown",
   "id": "ff8391b8-b989-4776-a4f6-c9d8f140bf29",
   "metadata": {},
   "source": [
    "# Data in Motion Weekly Data Analysis Challenge\n",
    "## Week 1: Chipotle Sales Analysis \n",
    "\n",
    "Link to dataset: https://raw.githubusercontent.com/justmarkham/DAT8/master/data/chipotle.tsv\n",
    "\n",
    "Challenge Questions:\n",
    "1. Which was the most-ordered item?\n",
    "2. For the most-ordered item, how many items were ordered?\n",
    "3. What was the most ordered item in the choice_description column?\n",
    "4. How many items were ordered in total?\n",
    "5. Turn the item price into a float\n",
    "6. How much was the revenue for the period in the dataset?\n",
    "7. How many orders were made in the period?\n",
    "8. What is the average revenue amount per order?\n",
    "9. How many different items are sold?"
   ]
  },
  {
   "cell_type": "code",
   "execution_count": 1,
   "id": "bd7aee1f-3ef1-4a9b-8635-dce02b05cd31",
   "metadata": {},
   "outputs": [],
   "source": [
    "# import libraries\n",
    "\n",
    "import pandas as pd\n",
    "import numpy as np\n",
    "import matplotlib.pyplot as plt \n",
    "import seaborn as sns\n",
    "cmap = 'blues'"
   ]
  },
  {
   "cell_type": "code",
   "execution_count": 2,
   "id": "619d81ad-8831-4b11-8e81-4fcbbb15f88f",
   "metadata": {},
   "outputs": [],
   "source": [
    "# read in .tsv file as .csv\n",
    "\n",
    "url = 'https://raw.githubusercontent.com/justmarkham/DAT8/master/data/chipotle.tsv'\n",
    "chipo = pd.read_csv(url, sep = '\\t')"
   ]
  },
  {
   "cell_type": "code",
   "execution_count": 3,
   "id": "13edba14-7858-404d-93fe-01f83c88249b",
   "metadata": {},
   "outputs": [
    {
     "data": {
      "text/html": [
       "<div>\n",
       "<style scoped>\n",
       "    .dataframe tbody tr th:only-of-type {\n",
       "        vertical-align: middle;\n",
       "    }\n",
       "\n",
       "    .dataframe tbody tr th {\n",
       "        vertical-align: top;\n",
       "    }\n",
       "\n",
       "    .dataframe thead th {\n",
       "        text-align: right;\n",
       "    }\n",
       "</style>\n",
       "<table border=\"1\" class=\"dataframe\">\n",
       "  <thead>\n",
       "    <tr style=\"text-align: right;\">\n",
       "      <th></th>\n",
       "      <th>order_id</th>\n",
       "      <th>quantity</th>\n",
       "      <th>item_name</th>\n",
       "      <th>choice_description</th>\n",
       "      <th>item_price</th>\n",
       "    </tr>\n",
       "  </thead>\n",
       "  <tbody>\n",
       "    <tr>\n",
       "      <th>0</th>\n",
       "      <td>1</td>\n",
       "      <td>1</td>\n",
       "      <td>Chips and Fresh Tomato Salsa</td>\n",
       "      <td>NaN</td>\n",
       "      <td>$2.39</td>\n",
       "    </tr>\n",
       "    <tr>\n",
       "      <th>1</th>\n",
       "      <td>1</td>\n",
       "      <td>1</td>\n",
       "      <td>Izze</td>\n",
       "      <td>[Clementine]</td>\n",
       "      <td>$3.39</td>\n",
       "    </tr>\n",
       "    <tr>\n",
       "      <th>2</th>\n",
       "      <td>1</td>\n",
       "      <td>1</td>\n",
       "      <td>Nantucket Nectar</td>\n",
       "      <td>[Apple]</td>\n",
       "      <td>$3.39</td>\n",
       "    </tr>\n",
       "    <tr>\n",
       "      <th>3</th>\n",
       "      <td>1</td>\n",
       "      <td>1</td>\n",
       "      <td>Chips and Tomatillo-Green Chili Salsa</td>\n",
       "      <td>NaN</td>\n",
       "      <td>$2.39</td>\n",
       "    </tr>\n",
       "    <tr>\n",
       "      <th>4</th>\n",
       "      <td>2</td>\n",
       "      <td>2</td>\n",
       "      <td>Chicken Bowl</td>\n",
       "      <td>[Tomatillo-Red Chili Salsa (Hot), [Black Beans...</td>\n",
       "      <td>$16.98</td>\n",
       "    </tr>\n",
       "  </tbody>\n",
       "</table>\n",
       "</div>"
      ],
      "text/plain": [
       "   order_id  quantity                              item_name  \\\n",
       "0         1         1           Chips and Fresh Tomato Salsa   \n",
       "1         1         1                                   Izze   \n",
       "2         1         1                       Nantucket Nectar   \n",
       "3         1         1  Chips and Tomatillo-Green Chili Salsa   \n",
       "4         2         2                           Chicken Bowl   \n",
       "\n",
       "                                  choice_description item_price  \n",
       "0                                                NaN     $2.39   \n",
       "1                                       [Clementine]     $3.39   \n",
       "2                                            [Apple]     $3.39   \n",
       "3                                                NaN     $2.39   \n",
       "4  [Tomatillo-Red Chili Salsa (Hot), [Black Beans...    $16.98   "
      ]
     },
     "execution_count": 3,
     "metadata": {},
     "output_type": "execute_result"
    }
   ],
   "source": [
    "# view head of data\n",
    "\n",
    "chipo.head(5)"
   ]
  },
  {
   "cell_type": "markdown",
   "id": "a4e3468d-58b4-43ba-9404-b58cd0a515e5",
   "metadata": {},
   "source": [
    "### 1. Which was the most-ordered item?"
   ]
  },
  {
   "cell_type": "code",
   "execution_count": 4,
   "id": "d01aa4ed-cf6d-4186-bee3-3aa1182a9848",
   "metadata": {},
   "outputs": [
    {
     "data": {
      "text/html": [
       "<div>\n",
       "<style scoped>\n",
       "    .dataframe tbody tr th:only-of-type {\n",
       "        vertical-align: middle;\n",
       "    }\n",
       "\n",
       "    .dataframe tbody tr th {\n",
       "        vertical-align: top;\n",
       "    }\n",
       "\n",
       "    .dataframe thead th {\n",
       "        text-align: right;\n",
       "    }\n",
       "</style>\n",
       "<table border=\"1\" class=\"dataframe\">\n",
       "  <thead>\n",
       "    <tr style=\"text-align: right;\">\n",
       "      <th></th>\n",
       "      <th>item_name</th>\n",
       "      <th>orders</th>\n",
       "    </tr>\n",
       "  </thead>\n",
       "  <tbody>\n",
       "    <tr>\n",
       "      <th>0</th>\n",
       "      <td>Chicken Bowl</td>\n",
       "      <td>726</td>\n",
       "    </tr>\n",
       "    <tr>\n",
       "      <th>1</th>\n",
       "      <td>Chicken Burrito</td>\n",
       "      <td>553</td>\n",
       "    </tr>\n",
       "    <tr>\n",
       "      <th>2</th>\n",
       "      <td>Chips and Guacamole</td>\n",
       "      <td>479</td>\n",
       "    </tr>\n",
       "    <tr>\n",
       "      <th>3</th>\n",
       "      <td>Steak Burrito</td>\n",
       "      <td>368</td>\n",
       "    </tr>\n",
       "    <tr>\n",
       "      <th>4</th>\n",
       "      <td>Canned Soft Drink</td>\n",
       "      <td>301</td>\n",
       "    </tr>\n",
       "  </tbody>\n",
       "</table>\n",
       "</div>"
      ],
      "text/plain": [
       "             item_name  orders\n",
       "0         Chicken Bowl     726\n",
       "1      Chicken Burrito     553\n",
       "2  Chips and Guacamole     479\n",
       "3        Steak Burrito     368\n",
       "4    Canned Soft Drink     301"
      ]
     },
     "execution_count": 4,
     "metadata": {},
     "output_type": "execute_result"
    }
   ],
   "source": [
    "most_ordered = chipo['item_name']\\\n",
    "               .value_counts()\\\n",
    "               .reset_index()\\\n",
    "               .copy()\\\n",
    "               .head()\n",
    "\n",
    "most_ordered.columns=['item_name', 'orders']\n",
    "\n",
    "most_ordered.head()"
   ]
  },
  {
   "cell_type": "code",
   "execution_count": 5,
   "id": "314a3c6f-6c2d-4354-ad69-f3be597b4a8f",
   "metadata": {},
   "outputs": [
    {
     "data": {
      "image/png": "[encoded data removed]",
      "text/plain": [
       "<Figure size 640x480 with 1 Axes>"
      ]
     },
     "metadata": {},
     "output_type": "display_data"
    }
   ],
   "source": [
    "sns.barplot(x='orders',\n",
    "            y='item_name',\n",
    "            data=most_ordered,\n",
    "            orient = 'h',\n",
    "            palette='Blues_r')\n",
    "\n",
    "plt.show()"
   ]
  },
  {
   "cell_type": "markdown",
   "id": "0f462f9b-d0b1-48d5-986a-009eeefa2b44",
   "metadata": {},
   "source": [
    "**Chicken bowls are the most ordered item, appearing in 726 orders.**"
   ]
  },
  {
   "cell_type": "markdown",
   "id": "4964556b-c4ad-437a-970f-b04ff83d1e4c",
   "metadata": {},
   "source": [
    "### 2. For the most-ordered item, how many items were ordered?"
   ]
  },
  {
   "cell_type": "code",
   "execution_count": 6,
   "id": "16b46e45-805d-4d16-a8af-2abbe9e9261b",
   "metadata": {},
   "outputs": [
    {
     "data": {
      "text/html": [
       "<div>\n",
       "<style scoped>\n",
       "    .dataframe tbody tr th:only-of-type {\n",
       "        vertical-align: middle;\n",
       "    }\n",
       "\n",
       "    .dataframe tbody tr th {\n",
       "        vertical-align: top;\n",
       "    }\n",
       "\n",
       "    .dataframe thead th {\n",
       "        text-align: right;\n",
       "    }\n",
       "</style>\n",
       "<table border=\"1\" class=\"dataframe\">\n",
       "  <thead>\n",
       "    <tr style=\"text-align: right;\">\n",
       "      <th></th>\n",
       "      <th>item_name</th>\n",
       "      <th>quantity</th>\n",
       "    </tr>\n",
       "  </thead>\n",
       "  <tbody>\n",
       "    <tr>\n",
       "      <th>0</th>\n",
       "      <td>Chicken Bowl</td>\n",
       "      <td>761</td>\n",
       "    </tr>\n",
       "  </tbody>\n",
       "</table>\n",
       "</div>"
      ],
      "text/plain": [
       "      item_name  quantity\n",
       "0  Chicken Bowl       761"
      ]
     },
     "execution_count": 6,
     "metadata": {},
     "output_type": "execute_result"
    }
   ],
   "source": [
    "chipo.groupby(by='item_name')['quantity']\\\n",
    "               .agg(sum)\\\n",
    "               .sort_values(ascending=False)\\\n",
    "               .reset_index()\\\n",
    "               .head(1)"
   ]
  },
  {
   "cell_type": "markdown",
   "id": "52def172-b63e-4fc0-857f-4bd775f38835",
   "metadata": {},
   "source": [
    "**761 chicken bowls were ordered.**"
   ]
  },
  {
   "cell_type": "markdown",
   "id": "4faf8670-ad1e-4653-9d83-88acbbfb2845",
   "metadata": {},
   "source": [
    "### 3. What was the most ordered item in the choice_description column?"
   ]
  },
  {
   "cell_type": "code",
   "execution_count": 7,
   "id": "b714cdb2",
   "metadata": {},
   "outputs": [
    {
     "data": {
      "text/html": [
       "<div>\n",
       "<style scoped>\n",
       "    .dataframe tbody tr th:only-of-type {\n",
       "        vertical-align: middle;\n",
       "    }\n",
       "\n",
       "    .dataframe tbody tr th {\n",
       "        vertical-align: top;\n",
       "    }\n",
       "\n",
       "    .dataframe thead th {\n",
       "        text-align: right;\n",
       "    }\n",
       "</style>\n",
       "<table border=\"1\" class=\"dataframe\">\n",
       "  <thead>\n",
       "    <tr style=\"text-align: right;\">\n",
       "      <th></th>\n",
       "      <th>choice_description</th>\n",
       "      <th>orders</th>\n",
       "    </tr>\n",
       "  </thead>\n",
       "  <tbody>\n",
       "    <tr>\n",
       "      <th>0</th>\n",
       "      <td>[Diet Coke]</td>\n",
       "      <td>134</td>\n",
       "    </tr>\n",
       "    <tr>\n",
       "      <th>1</th>\n",
       "      <td>[Coke]</td>\n",
       "      <td>123</td>\n",
       "    </tr>\n",
       "    <tr>\n",
       "      <th>2</th>\n",
       "      <td>[Sprite]</td>\n",
       "      <td>77</td>\n",
       "    </tr>\n",
       "    <tr>\n",
       "      <th>3</th>\n",
       "      <td>[Fresh Tomato Salsa, [Rice, Black Beans, Chees...</td>\n",
       "      <td>42</td>\n",
       "    </tr>\n",
       "    <tr>\n",
       "      <th>4</th>\n",
       "      <td>[Fresh Tomato Salsa, [Rice, Black Beans, Chees...</td>\n",
       "      <td>40</td>\n",
       "    </tr>\n",
       "  </tbody>\n",
       "</table>\n",
       "</div>"
      ],
      "text/plain": [
       "                                  choice_description  orders\n",
       "0                                        [Diet Coke]     134\n",
       "1                                             [Coke]     123\n",
       "2                                           [Sprite]      77\n",
       "3  [Fresh Tomato Salsa, [Rice, Black Beans, Chees...      42\n",
       "4  [Fresh Tomato Salsa, [Rice, Black Beans, Chees...      40"
      ]
     },
     "execution_count": 7,
     "metadata": {},
     "output_type": "execute_result"
    }
   ],
   "source": [
    "most_ordered = chipo['choice_description']\\\n",
    "               .value_counts()\\\n",
    "               .reset_index()\\\n",
    "               .copy()\\\n",
    "               .head()\n",
    "\n",
    "most_ordered.columns=['choice_description', 'orders']\n",
    "\n",
    "most_ordered.head()"
   ]
  },
  {
   "cell_type": "markdown",
   "id": "a295ce32-03c5-4fb7-9f1e-a4749c1f6fd4",
   "metadata": {},
   "source": [
    "**Diet Coke is the most ordered item in the choice_description, appearing in 134 orders.**"
   ]
  },
  {
   "cell_type": "markdown",
   "id": "62543545-5a6b-44df-8622-9213fbb1d234",
   "metadata": {},
   "source": [
    "### 4. How many items were ordered in total?"
   ]
  },
  {
   "cell_type": "code",
   "execution_count": 19,
   "id": "1ef7ab6c-0e1f-4a19-a5f9-83123ef86a14",
   "metadata": {},
   "outputs": [
    {
     "data": {
      "text/plain": [
       "4972"
      ]
     },
     "execution_count": 19,
     "metadata": {},
     "output_type": "execute_result"
    }
   ],
   "source": [
    "total_items = chipo['quantity'].sum()\n",
    "total_items"
   ]
  },
  {
   "cell_type": "markdown",
   "id": "73dbf678-1e2b-48fe-8ac0-67e86a1b03dc",
   "metadata": {},
   "source": [
    "**There were 4,972 items ordered in total.**"
   ]
  },
  {
   "cell_type": "markdown",
   "id": "157a6a64-c910-4e3d-93ff-82e2e70b9007",
   "metadata": {},
   "source": [
    "### 5. Turn the item price into a float"
   ]
  },
  {
   "cell_type": "code",
   "execution_count": 9,
   "id": "2f3db5e8-5d3e-4203-a6e9-89c7d19bc850",
   "metadata": {},
   "outputs": [
    {
     "data": {
      "text/html": [
       "<div>\n",
       "<style scoped>\n",
       "    .dataframe tbody tr th:only-of-type {\n",
       "        vertical-align: middle;\n",
       "    }\n",
       "\n",
       "    .dataframe tbody tr th {\n",
       "        vertical-align: top;\n",
       "    }\n",
       "\n",
       "    .dataframe thead th {\n",
       "        text-align: right;\n",
       "    }\n",
       "</style>\n",
       "<table border=\"1\" class=\"dataframe\">\n",
       "  <thead>\n",
       "    <tr style=\"text-align: right;\">\n",
       "      <th></th>\n",
       "      <th>order_id</th>\n",
       "      <th>quantity</th>\n",
       "      <th>item_name</th>\n",
       "      <th>choice_description</th>\n",
       "      <th>item_price</th>\n",
       "    </tr>\n",
       "  </thead>\n",
       "  <tbody>\n",
       "    <tr>\n",
       "      <th>0</th>\n",
       "      <td>1</td>\n",
       "      <td>1</td>\n",
       "      <td>Chips and Fresh Tomato Salsa</td>\n",
       "      <td>NaN</td>\n",
       "      <td>$2.39</td>\n",
       "    </tr>\n",
       "    <tr>\n",
       "      <th>1</th>\n",
       "      <td>1</td>\n",
       "      <td>1</td>\n",
       "      <td>Izze</td>\n",
       "      <td>[Clementine]</td>\n",
       "      <td>$3.39</td>\n",
       "    </tr>\n",
       "    <tr>\n",
       "      <th>2</th>\n",
       "      <td>1</td>\n",
       "      <td>1</td>\n",
       "      <td>Nantucket Nectar</td>\n",
       "      <td>[Apple]</td>\n",
       "      <td>$3.39</td>\n",
       "    </tr>\n",
       "    <tr>\n",
       "      <th>3</th>\n",
       "      <td>1</td>\n",
       "      <td>1</td>\n",
       "      <td>Chips and Tomatillo-Green Chili Salsa</td>\n",
       "      <td>NaN</td>\n",
       "      <td>$2.39</td>\n",
       "    </tr>\n",
       "    <tr>\n",
       "      <th>4</th>\n",
       "      <td>2</td>\n",
       "      <td>2</td>\n",
       "      <td>Chicken Bowl</td>\n",
       "      <td>[Tomatillo-Red Chili Salsa (Hot), [Black Beans...</td>\n",
       "      <td>$16.98</td>\n",
       "    </tr>\n",
       "  </tbody>\n",
       "</table>\n",
       "</div>"
      ],
      "text/plain": [
       "   order_id  quantity                              item_name  \\\n",
       "0         1         1           Chips and Fresh Tomato Salsa   \n",
       "1         1         1                                   Izze   \n",
       "2         1         1                       Nantucket Nectar   \n",
       "3         1         1  Chips and Tomatillo-Green Chili Salsa   \n",
       "4         2         2                           Chicken Bowl   \n",
       "\n",
       "                                  choice_description item_price  \n",
       "0                                                NaN     $2.39   \n",
       "1                                       [Clementine]     $3.39   \n",
       "2                                            [Apple]     $3.39   \n",
       "3                                                NaN     $2.39   \n",
       "4  [Tomatillo-Red Chili Salsa (Hot), [Black Beans...    $16.98   "
      ]
     },
     "execution_count": 9,
     "metadata": {},
     "output_type": "execute_result"
    }
   ],
   "source": [
    "chipo.head()"
   ]
  },
  {
   "cell_type": "code",
   "execution_count": 10,
   "id": "5e71ea97-f6ae-4aa1-acb0-3f1f8e38381a",
   "metadata": {},
   "outputs": [
    {
     "data": {
      "text/plain": [
       "order_id               int64\n",
       "quantity               int64\n",
       "item_name             object\n",
       "choice_description    object\n",
       "item_price            object\n",
       "dtype: object"
      ]
     },
     "execution_count": 10,
     "metadata": {},
     "output_type": "execute_result"
    }
   ],
   "source": [
    "# view dtypes, item_price is a string\n",
    "chipo.dtypes"
   ]
  },
  {
   "cell_type": "code",
   "execution_count": 11,
   "id": "4f2deb99-3391-4490-b101-cb0949c9b974",
   "metadata": {},
   "outputs": [
    {
     "data": {
      "text/html": [
       "<div>\n",
       "<style scoped>\n",
       "    .dataframe tbody tr th:only-of-type {\n",
       "        vertical-align: middle;\n",
       "    }\n",
       "\n",
       "    .dataframe tbody tr th {\n",
       "        vertical-align: top;\n",
       "    }\n",
       "\n",
       "    .dataframe thead th {\n",
       "        text-align: right;\n",
       "    }\n",
       "</style>\n",
       "<table border=\"1\" class=\"dataframe\">\n",
       "  <thead>\n",
       "    <tr style=\"text-align: right;\">\n",
       "      <th></th>\n",
       "      <th>order_id</th>\n",
       "      <th>quantity</th>\n",
       "      <th>item_name</th>\n",
       "      <th>choice_description</th>\n",
       "      <th>item_price</th>\n",
       "    </tr>\n",
       "  </thead>\n",
       "  <tbody>\n",
       "    <tr>\n",
       "      <th>0</th>\n",
       "      <td>1</td>\n",
       "      <td>1</td>\n",
       "      <td>Chips and Fresh Tomato Salsa</td>\n",
       "      <td>NaN</td>\n",
       "      <td>2.39</td>\n",
       "    </tr>\n",
       "    <tr>\n",
       "      <th>1</th>\n",
       "      <td>1</td>\n",
       "      <td>1</td>\n",
       "      <td>Izze</td>\n",
       "      <td>[Clementine]</td>\n",
       "      <td>3.39</td>\n",
       "    </tr>\n",
       "    <tr>\n",
       "      <th>2</th>\n",
       "      <td>1</td>\n",
       "      <td>1</td>\n",
       "      <td>Nantucket Nectar</td>\n",
       "      <td>[Apple]</td>\n",
       "      <td>3.39</td>\n",
       "    </tr>\n",
       "    <tr>\n",
       "      <th>3</th>\n",
       "      <td>1</td>\n",
       "      <td>1</td>\n",
       "      <td>Chips and Tomatillo-Green Chili Salsa</td>\n",
       "      <td>NaN</td>\n",
       "      <td>2.39</td>\n",
       "    </tr>\n",
       "    <tr>\n",
       "      <th>4</th>\n",
       "      <td>2</td>\n",
       "      <td>2</td>\n",
       "      <td>Chicken Bowl</td>\n",
       "      <td>[Tomatillo-Red Chili Salsa (Hot), [Black Beans...</td>\n",
       "      <td>16.98</td>\n",
       "    </tr>\n",
       "  </tbody>\n",
       "</table>\n",
       "</div>"
      ],
      "text/plain": [
       "   order_id  quantity                              item_name  \\\n",
       "0         1         1           Chips and Fresh Tomato Salsa   \n",
       "1         1         1                                   Izze   \n",
       "2         1         1                       Nantucket Nectar   \n",
       "3         1         1  Chips and Tomatillo-Green Chili Salsa   \n",
       "4         2         2                           Chicken Bowl   \n",
       "\n",
       "                                  choice_description  item_price  \n",
       "0                                                NaN        2.39  \n",
       "1                                       [Clementine]        3.39  \n",
       "2                                            [Apple]        3.39  \n",
       "3                                                NaN        2.39  \n",
       "4  [Tomatillo-Red Chili Salsa (Hot), [Black Beans...       16.98  "
      ]
     },
     "execution_count": 11,
     "metadata": {},
     "output_type": "execute_result"
    }
   ],
   "source": [
    "# strip dollar sign\n",
    "chipo['item_price'] = chipo['item_price']\\\n",
    "                      .apply(lambda x: x.strip('$'))\n",
    "\n",
    "# convert to float data type\n",
    "chipo['item_price'] = chipo['item_price'].astype(float)\n",
    "\n",
    "# view head of data, item_price no longer contains the dollar sign\n",
    "chipo.head()"
   ]
  },
  {
   "cell_type": "code",
   "execution_count": 12,
   "id": "a5b72857-ffb9-46db-b567-cca284a8a8c4",
   "metadata": {},
   "outputs": [
    {
     "data": {
      "text/plain": [
       "order_id                int64\n",
       "quantity                int64\n",
       "item_name              object\n",
       "choice_description     object\n",
       "item_price            float64\n",
       "dtype: object"
      ]
     },
     "execution_count": 12,
     "metadata": {},
     "output_type": "execute_result"
    }
   ],
   "source": [
    "# view data types again, item price now shows as a float\n",
    "chipo.dtypes"
   ]
  },
  {
   "cell_type": "markdown",
   "id": "4062e6fc-6d4a-498b-9a8c-476afe6b3705",
   "metadata": {},
   "source": [
    "### 6. How much was the revenue for the period in the dataset?"
   ]
  },
  {
   "cell_type": "code",
   "execution_count": 16,
   "id": "1ef903bd-ad60-4030-acee-db320e87ad8b",
   "metadata": {},
   "outputs": [
    {
     "data": {
      "text/plain": [
       "34500.16"
      ]
     },
     "execution_count": 16,
     "metadata": {},
     "output_type": "execute_result"
    }
   ],
   "source": [
    "revenue = chipo['item_price'].sum()\n",
    "revenue"
   ]
  },
  {
   "cell_type": "markdown",
   "id": "e4256e51-9fae-47fa-b3f6-faaefd253866",
   "metadata": {},
   "source": [
    "**There was a revenue of $34,500.16.**"
   ]
  },
  {
   "cell_type": "markdown",
   "id": "83f503a2-a44a-4c2d-b931-aa64b1305e9f",
   "metadata": {},
   "source": [
    "### 7. How many orders were made in the period?"
   ]
  },
  {
   "cell_type": "code",
   "execution_count": 17,
   "id": "0e69cc1e-5b07-41fe-9e5a-9a0b78fee7c8",
   "metadata": {},
   "outputs": [
    {
     "data": {
      "text/plain": [
       "4622"
      ]
     },
     "execution_count": 17,
     "metadata": {},
     "output_type": "execute_result"
    }
   ],
   "source": [
    "total_orders = chipo['order_id'].value_counts().sum()\n",
    "total_orders"
   ]
  },
  {
   "cell_type": "markdown",
   "id": "66f8e5f4-c521-49be-b61b-e79188d69c88",
   "metadata": {},
   "source": [
    "**There were 4,622 orders made in the time period.**"
   ]
  },
  {
   "cell_type": "markdown",
   "id": "f0d48243-f3f8-4764-b9fa-318de3095b65",
   "metadata": {},
   "source": [
    "### 8. What is the average revenue amount per order?"
   ]
  },
  {
   "cell_type": "code",
   "execution_count": 20,
   "id": "f944b1f6-1f3b-4eff-8ca7-a654b3b0a24b",
   "metadata": {},
   "outputs": [
    {
     "data": {
      "text/plain": [
       "7.464335785374297"
      ]
     },
     "execution_count": 20,
     "metadata": {},
     "output_type": "execute_result"
    }
   ],
   "source": [
    "avg_revenue = revenue/total_orders\n",
    "avg_revenue"
   ]
  },
  {
   "cell_type": "markdown",
   "id": "b4dd0332-e560-466b-8885-9825867ceb33",
   "metadata": {},
   "source": [
    "**The average revenue amount per order is $7.46.**"
   ]
  },
  {
   "cell_type": "markdown",
   "id": "2726dec5-8ecd-4a9f-a786-72eb483b7aa3",
   "metadata": {},
   "source": [
    "### 9. How many different items are sold?"
   ]
  },
  {
   "cell_type": "code",
   "execution_count": 26,
   "id": "f5f6208a-29e9-40c3-a7eb-ad101f2c728a",
   "metadata": {},
   "outputs": [
    {
     "data": {
      "text/plain": [
       "50"
      ]
     },
     "execution_count": 26,
     "metadata": {},
     "output_type": "execute_result"
    }
   ],
   "source": [
    "total_items = chipo['item_name'].nunique()\n",
    "total_items"
   ]
  },
  {
   "cell_type": "markdown",
   "id": "8a2b755c-5d54-420a-94ed-7d5639784e37",
   "metadata": {},
   "source": [
    "**There are 50 different items sold.**"
   ]
  }
 ],
 "metadata": {
  "kernelspec": {
   "display_name": "Python 3 (ipykernel)",
   "language": "python",
   "name": "python3"
  },
  "language_info": {
   "codemirror_mode": {
    "name": "ipython",
    "version": 3
   },
   "file_extension": ".py",
   "mimetype": "text/x-python",
   "name": "python",
   "nbconvert_exporter": "python",
   "pygments_lexer": "ipython3",
   "version": "3.9.13"
  }
 },
 "nbformat": 4,
 "nbformat_minor": 5
}
